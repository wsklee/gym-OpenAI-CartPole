{
  "nbformat": 4,
  "nbformat_minor": 0,
  "metadata": {
    "colab": {
      "provenance": [],
      "gpuType": "T4",
      "include_colab_link": true
    },
    "kernelspec": {
      "name": "python3",
      "display_name": "Python 3"
    },
    "language_info": {
      "name": "python"
    },
    "accelerator": "GPU"
  },
  "cells": [
    {
      "cell_type": "markdown",
      "metadata": {
        "id": "view-in-github",
        "colab_type": "text"
      },
      "source": [
        "<a href=\"https://colab.research.google.com/github/wsklee/gym-OpenAI-CartPole/blob/main/OpenAI_Gymnasium_Cartpole.ipynb\" target=\"_parent\"><img src=\"https://colab.research.google.com/assets/colab-badge.svg\" alt=\"Open In Colab\"/></a>"
      ]
    },
    {
      "cell_type": "markdown",
      "source": [
        "# OpenAI Gymnasium Cart Pole\n",
        "https://gymnasium.farama.org/environments/classic_control/cart_pole/   \n",
        "As part of CZ3005 Assignment  \n",
        "By Lee Wonseok"
      ],
      "metadata": {
        "id": "ZauhjPSfX7pI"
      }
    },
    {
      "cell_type": "markdown",
      "source": [
        "## Installing dependencies:"
      ],
      "metadata": {
        "id": "UBiYOoesYMvr"
      }
    },
    {
      "cell_type": "code",
      "execution_count": null,
      "metadata": {
        "colab": {
          "base_uri": "https://localhost:8080/"
        },
        "id": "PbgnVwZmX5uW",
        "outputId": "6a481f96-8486-47e4-ad8c-cf7bc1883590"
      },
      "outputs": [
        {
          "output_type": "stream",
          "name": "stdout",
          "text": [
            "Requirement already satisfied: gym[classic_control] in /usr/local/lib/python3.10/dist-packages (0.25.2)\n",
            "Requirement already satisfied: numpy>=1.18.0 in /usr/local/lib/python3.10/dist-packages (from gym[classic_control]) (1.25.2)\n",
            "Requirement already satisfied: cloudpickle>=1.2.0 in /usr/local/lib/python3.10/dist-packages (from gym[classic_control]) (2.2.1)\n",
            "Requirement already satisfied: gym-notices>=0.0.4 in /usr/local/lib/python3.10/dist-packages (from gym[classic_control]) (0.0.8)\n",
            "Requirement already satisfied: pygame==2.1.0 in /usr/local/lib/python3.10/dist-packages (from gym[classic_control]) (2.1.0)\n",
            "Requirement already satisfied: setuptools in /usr/local/lib/python3.10/dist-packages (69.2.0)\n"
          ]
        }
      ],
      "source": [
        "!apt-get install -y xvfb python-opengl > /dev/null 2>&1\n",
        "!pip install gym pyvirtualdisplay > /dev/null 2>&1\n",
        "!pip install gym pyvirtualdisplay > /dev/null 2>&1\n",
        "!apt-get install -y xvfb python-opengl ffmpeg > /dev/null 2>&1\n",
        "!pip install gym[classic_control]\n",
        "!apt-get update > /dev/null 2>&1\n",
        "!apt-get install cmake > /dev/null 2>&1\n",
        "!pip install --upgrade setuptools 2>&1\n",
        "!pip install ez_setup > /dev/null 2>&1"
      ]
    },
    {
      "cell_type": "markdown",
      "source": [
        "## Importing dependencies and define helper functions"
      ],
      "metadata": {
        "id": "RwKbYeTgbaTA"
      }
    },
    {
      "cell_type": "code",
      "source": [
        "import gym\n",
        "from gym import logger as gymlogger\n",
        "from gym.wrappers import RecordVideo\n",
        "gymlogger.set_level(40) #error only\n",
        "import tensorflow as tf\n",
        "import numpy as np\n",
        "import random\n",
        "import matplotlib\n",
        "import matplotlib.pyplot as plt\n",
        "%matplotlib inline\n",
        "import math\n",
        "import glob\n",
        "import io\n",
        "import base64\n",
        "from IPython.display import HTML\n",
        "from IPython import display as ipythondisplay\n",
        "\n",
        "def show_video():\n",
        "  mp4list = glob.glob('video/*.mp4')\n",
        "  if len(mp4list) > 0:\n",
        "    mp4 = mp4list[0]\n",
        "    video = io.open(mp4, 'r+b').read()\n",
        "    encoded = base64.b64encode(video)\n",
        "    ipythondisplay.display(HTML(data='''<video alt=\"test\" autoplay\n",
        "                loop controls style=\"height: 400px;\">\n",
        "                <source src=\"data:video/mp4;base64,{0}\" type=\"video/mp4\" />\n",
        "             </video>'''.format(encoded.decode('ascii'))))\n",
        "  else:\n",
        "    print(\"Could not find video\")"
      ],
      "metadata": {
        "id": "j6KpgCLGYWmj"
      },
      "execution_count": null,
      "outputs": []
    },
    {
      "cell_type": "markdown",
      "source": [
        "## Loading CartPole environment"
      ],
      "metadata": {
        "id": "ehbqP9CXbmo7"
      }
    },
    {
      "cell_type": "code",
      "source": [
        "env = gym.make(\"CartPole-v1\")"
      ],
      "metadata": {
        "id": "Go12dH4qbwBy",
        "colab": {
          "base_uri": "https://localhost:8080/"
        },
        "outputId": "d26f5c78-6735-47a3-e81e-5f071c643c5e"
      },
      "execution_count": null,
      "outputs": [
        {
          "output_type": "stream",
          "name": "stderr",
          "text": [
            "/usr/local/lib/python3.10/dist-packages/ipykernel/ipkernel.py:283: DeprecationWarning: `should_run_async` will not call `transform_cell` automatically in the future. Please pass the result to `transformed_cell` argument and any exception that happen during thetransform in `preprocessing_exc_tuple` in IPython 7.17 and above.\n",
            "  and should_run_async(code)\n"
          ]
        }
      ]
    },
    {
      "cell_type": "markdown",
      "source": [
        "## Solution chosen: Deep Q-Networks (DQN)\n",
        "\n",
        "Reference: [Playing Atari with Deep Reinforcement Learning](https://www.cs.toronto.edu/~vmnih/docs/dqn.pdf), Mnih et al, 2013\n",
        "\n",
        "The Cart Pole environment requires a model to balance the pole by applying forces in the left and right direction on the cart. The environment involves a continuous state space (cart position, cart velocity, pole angle and pole angular velocity) and discrete actions (0 or 1).\n",
        "\n",
        "DQN is chosen as it is more suitable for problems with larger state spaces such as the Cart Pole environment\n",
        "\n",
        "### Characteristic of DQN\n",
        "DQN combines Q-Learning with deep neural networks. It uses a neural network as a function approximator to estimate the Q-values for state-action pairs, instead of using Q-table\n",
        "\n",
        "- Q-learning: An agent learns a policy that tells it what action to take under what circumstances. It is model-free and can handle problems with stochastic transitions and rewards.\n",
        "\n",
        "- Neural network: Used as a function approximator to estimate the Q-values. The input to the network is the state, and the output is the Q-value for each action. The weights of the network are learned during the training process.\n",
        "\n",
        "- Experience Replay: Past experiences (state, action, reward, next state) are stored in a replay buffer. During training, a batch of experiences is sampled from this buffer to update the network weights. This helps to break the correlation between consecutive experiences, leading to better learning.\n",
        "\n",
        "- Fixed Q-targets: If we use same parameters (weights) for estimating the Temporal Difference target and the Q-value, there will be a significant correlation between the TD target and the parameters we are changing, which is undesirable. Hence we use a separate network (target) with fixed parameter to estimate the TD target. The parameters of this target network are then updated to the parameters of the online network every few steps."
      ],
      "metadata": {
        "id": "-AexnOc5_WU0"
      }
    },
    {
      "cell_type": "markdown",
      "source": [
        "## DQN Pseudocode\n",
        "\n",
        "1. **Initialize replay memory** $D$ to capacity $N$\n",
        "\n",
        "2. **Initialize action-value function** $Q$ with random weights\n",
        "\n",
        "3. **For each episode** $= 1, M$:\n",
        "   - Initialize sequence $s_1 = \\{x_1\\}$\n",
        "   - **For each time step** $t = 1, T$:\n",
        "     - With probability $\\epsilon$, select a random action $a_t$\n",
        "     - Otherwise, select $a_t = \\max_a Q^*(s_t, a; \\theta)$\n",
        "     - Execute action $a_t$ in the environment and observe reward $r_t$ and state space $x_{t+1}$\n",
        "     - Set $s_{t+1} = s_t, a_t, x_{t+1}$\n",
        "     - Store transition $(s_t, a_t, r_t, s_{t+1})$ in $D$\n",
        "     - Optimize model by\n",
        "      - Sample random minibatch of transitions $(s_j, a_j, r_j, s_{j+1})$ from $D$\n",
        "      - Compute the Q-values $Q(s_j, a_j)$ for the current state-action pairs using the policy network.\n",
        "      - Estimate the next state values $Q(s_{j+1}, a_0)$ for all non-final next states using the target network.\n",
        "      - Compute the expected Q values for non-terminal states using the Bellman equation.\n",
        "      - Compute the Huber loss (smooth L1 loss) between the estimated Q-values and the expected Q-values.\n",
        "      - Perform a gradient descent step to optimize the policy network.\n",
        "      - Update the policy network's weights using the optimizer.\n",
        "     - Perform a soft update of the target network's weights. $θ′ ← τ θ + (1 −τ )θ′$\n"
      ],
      "metadata": {
        "id": "gsSNkTNcWwHe"
      }
    },
    {
      "cell_type": "markdown",
      "source": [
        "# Task 1: Development of an RL agent\n",
        "\n",
        "Code reference: https://pytorch.org/tutorials/intermediate/reinforcement_q_learning.html"
      ],
      "metadata": {
        "id": "2oIzK9SzhlWN"
      }
    },
    {
      "cell_type": "markdown",
      "source": [
        "## Setting up"
      ],
      "metadata": {
        "id": "kcmLh4r12xYG"
      }
    },
    {
      "cell_type": "code",
      "source": [
        "from collections import namedtuple, deque\n",
        "from itertools import count\n",
        "\n",
        "# set up Pytorch\n",
        "import torch\n",
        "import torch.nn as nn\n",
        "import torch.optim as optim\n",
        "import torch.nn.functional as F\n",
        "\n",
        "\n",
        "# set up matplotlib\n",
        "is_ipython = 'inline' in matplotlib.get_backend()\n",
        "if is_ipython:\n",
        "    from IPython import display\n",
        "\n",
        "plt.ion()\n",
        "\n",
        "# use CUDA if available\n",
        "device = torch.device(\"cuda\" if torch.cuda.is_available() else \"cpu\")"
      ],
      "metadata": {
        "id": "xsQCXaWF-YqF"
      },
      "execution_count": null,
      "outputs": []
    },
    {
      "cell_type": "markdown",
      "source": [
        "### Replay Buffer"
      ],
      "metadata": {
        "id": "Ry4qSQoGTXwu"
      }
    },
    {
      "cell_type": "code",
      "source": [
        "Transition = namedtuple('Transition',\n",
        "                        ('state', 'action', 'next_state', 'reward'))\n",
        "\n",
        "\n",
        "class ReplayMemory(object):\n",
        "\n",
        "    def __init__(self, capacity):\n",
        "        self.memory = deque([], maxlen=capacity)\n",
        "\n",
        "    def push(self, *args):\n",
        "        \"\"\"Save a transition\"\"\"\n",
        "        self.memory.append(Transition(*args))\n",
        "\n",
        "    def sample(self, batch_size):\n",
        "        return random.sample(self.memory, batch_size)\n",
        "\n",
        "    def __len__(self):\n",
        "        return len(self.memory)"
      ],
      "metadata": {
        "id": "4VzaGDk1BPHM",
        "colab": {
          "base_uri": "https://localhost:8080/"
        },
        "outputId": "1d5bfb80-05e7-425e-a806-861f13d23922"
      },
      "execution_count": null,
      "outputs": [
        {
          "output_type": "stream",
          "name": "stderr",
          "text": [
            "/usr/local/lib/python3.10/dist-packages/ipykernel/ipkernel.py:283: DeprecationWarning: `should_run_async` will not call `transform_cell` automatically in the future. Please pass the result to `transformed_cell` argument and any exception that happen during thetransform in `preprocessing_exc_tuple` in IPython 7.17 and above.\n",
            "  and should_run_async(code)\n"
          ]
        }
      ]
    },
    {
      "cell_type": "markdown",
      "source": [
        "### DQN"
      ],
      "metadata": {
        "id": "bCVRZPg8Td4V"
      }
    },
    {
      "cell_type": "code",
      "source": [
        "class DQN(nn.Module):\n",
        "\n",
        "    def __init__(self, n_observations, n_actions):\n",
        "        super(DQN, self).__init__()\n",
        "        self.layer1 = nn.Linear(n_observations, 128)\n",
        "        self.layer2 = nn.Linear(128, 128)\n",
        "        self.layer3 = nn.Linear(128, n_actions)\n",
        "\n",
        "    def forward(self, x):\n",
        "        x = F.relu(self.layer1(x))\n",
        "        x = F.relu(self.layer2(x))\n",
        "        return self.layer3(x)"
      ],
      "metadata": {
        "id": "FUXOdWz0-yyz"
      },
      "execution_count": null,
      "outputs": []
    },
    {
      "cell_type": "markdown",
      "source": [
        "### Constants"
      ],
      "metadata": {
        "id": "lttVMqs5Tht7"
      }
    },
    {
      "cell_type": "code",
      "source": [
        "# BATCH_SIZE is the number of transitions sampled from the replay buffer\n",
        "# GAMMA is the discount factor\n",
        "# EPS_START is the starting value of epsilon\n",
        "# EPS_END is the final value of epsilon\n",
        "# EPS_DECAY controls the rate of exponential decay of epsilon, higher means a slower decay\n",
        "# TAU is the update rate of the target network\n",
        "# LR is the learning rate of the ``AdamW`` optimizer\n",
        "BATCH_SIZE = 128\n",
        "GAMMA = 0.99\n",
        "EPS_START = 0.9\n",
        "EPS_END = 0.05\n",
        "EPS_DECAY = 1000\n",
        "TAU = 0.005\n",
        "LR = 1e-4\n",
        "\n",
        "# Get number of actions from gym action space\n",
        "n_actions = env.action_space.n\n",
        "state = env.reset()\n",
        "n_observations = len(state)\n",
        "\n",
        "policy_net = DQN(n_observations, n_actions).to(device)\n",
        "target_net = DQN(n_observations, n_actions).to(device)\n",
        "target_net.load_state_dict(policy_net.state_dict())\n",
        "\n",
        "optimizer = optim.AdamW(policy_net.parameters(), lr=LR, amsgrad=True)\n",
        "memory = ReplayMemory(10000)"
      ],
      "metadata": {
        "id": "yLmFV7_vSdNJ"
      },
      "execution_count": null,
      "outputs": []
    },
    {
      "cell_type": "code",
      "source": [
        "steps_done = 0\n",
        "\n",
        "\n",
        "def select_action(state):\n",
        "    global steps_done\n",
        "    sample = random.random()\n",
        "    eps_threshold = EPS_END + (EPS_START - EPS_END) * \\\n",
        "        math.exp(-1. * steps_done / EPS_DECAY)\n",
        "    steps_done += 1\n",
        "\n",
        "    # With probability ε select a random action a_t\n",
        "    if sample < eps_threshold:\n",
        "      return torch.tensor([[env.action_space.sample()]], device=device, dtype=torch.long)\n",
        "\n",
        "    # otherwise select a_t = max_a Q∗(s_t, a; θ)\n",
        "    else:\n",
        "        with torch.no_grad():\n",
        "            return policy_net(state).max(1).indices.view(1, 1)\n",
        "\n",
        "\n",
        "episode_durations = []"
      ],
      "metadata": {
        "id": "-iFALzAU-mvJ"
      },
      "execution_count": null,
      "outputs": []
    },
    {
      "cell_type": "code",
      "source": [
        "def optimize_model():\n",
        "    if len(memory) < BATCH_SIZE:\n",
        "        return\n",
        "    # Sample random minibatch of transitions (s_j, a_j, r_j, s_{j+1}) from D\n",
        "    transitions = memory.sample(BATCH_SIZE)\n",
        "    batch = Transition(*zip(*transitions))\n",
        "\n",
        "    # Find a mask of non-final states and concatenate the batch elements\n",
        "    non_final_mask = torch.tensor(tuple(map(lambda s: s is not None,\n",
        "                                          batch.next_state)), device=device, dtype=torch.bool)\n",
        "    non_final_next_states = torch.cat([s for s in batch.next_state\n",
        "                                                if s is not None])\n",
        "    state_batch = torch.cat(batch.state)\n",
        "    action_batch = torch.cat(batch.action)\n",
        "    reward_batch = torch.cat(batch.reward)\n",
        "\n",
        "    # Compute Q-values for the current states Q(s_j, a_j)\n",
        "    state_action_values = policy_net(state_batch).gather(1, action_batch)\n",
        "\n",
        "    # Estimate Q-values for the next states Q(s_{j+1}, a_0)\n",
        "    next_state_values = torch.zeros(BATCH_SIZE, device=device)\n",
        "    with torch.no_grad():\n",
        "        next_state_values[non_final_mask] = target_net(non_final_next_states).max(1).values\n",
        "\n",
        "    # Compute the expected Q values for non-terminal states\n",
        "    # using Bellman Equation y_j = r_j + γ * max(Q(s_{j+1}, a_0))\n",
        "    expected_state_action_values = (next_state_values * GAMMA) + reward_batch\n",
        "\n",
        "    # Compute Huber loss\n",
        "    criterion = nn.SmoothL1Loss()\n",
        "    loss = criterion(state_action_values, expected_state_action_values.unsqueeze(1))\n",
        "\n",
        "    # Optimize the model\n",
        "    optimizer.zero_grad()\n",
        "    loss.backward()\n",
        "    # In-place gradient clipping\n",
        "    torch.nn.utils.clip_grad_value_(policy_net.parameters(), 100)\n",
        "    optimizer.step()"
      ],
      "metadata": {
        "id": "Pr8FvHpp_7fk"
      },
      "execution_count": null,
      "outputs": []
    },
    {
      "cell_type": "markdown",
      "source": [
        "## Training"
      ],
      "metadata": {
        "id": "Orlox_HYHTbM"
      }
    },
    {
      "cell_type": "code",
      "source": [
        "# Parameter\n",
        "if torch.cuda.is_available():\n",
        "    num_episodes = 600\n",
        "else:\n",
        "    num_episodes = 100"
      ],
      "metadata": {
        "id": "590u_rdGHotv"
      },
      "execution_count": null,
      "outputs": []
    },
    {
      "cell_type": "code",
      "source": [
        "# Run a single episode and return the total reward\n",
        "def run_episode(env, policy_net, target_net, memory, device):\n",
        "    state = env.reset()\n",
        "    state = torch.tensor(state, dtype=torch.float32, device=device).unsqueeze(0)\n",
        "    total_reward = 0\n",
        "    done = False\n",
        "    while not done:\n",
        "        action = select_action(state)\n",
        "        # Execute action a_t in environment and observe reward r_t and state space x_{t+1}\n",
        "        observation, reward, terminated, truncated = env.step(action.item())\n",
        "        reward = torch.tensor([reward], device=device)\n",
        "        total_reward += reward.item()\n",
        "        done = terminated or truncated\n",
        "\n",
        "        # Set s_{t+1} = s_t, a_t, x_{t+1}\n",
        "        if terminated:\n",
        "            next_state = None\n",
        "        else:\n",
        "            next_state = torch.tensor(observation, dtype=torch.float32, device=device).unsqueeze(0)\n",
        "\n",
        "        # Store the transition (s_t, a_t, r_t, s_{t+1}) in D\n",
        "        memory.push(state, action, next_state, reward)\n",
        "\n",
        "        # Move to the next state\n",
        "        state = next_state\n",
        "\n",
        "        # Perform one step of the optimization (on the policy network)\n",
        "        optimize_model()\n",
        "\n",
        "        # Soft update of the target network's weights\n",
        "        # θ′ ← τ θ + (1 −τ )θ′\n",
        "        target_net_state_dict = target_net.state_dict()\n",
        "        policy_net_state_dict = policy_net.state_dict()\n",
        "        for key in policy_net_state_dict:\n",
        "            target_net_state_dict[key] = policy_net_state_dict[key]*TAU + target_net_state_dict[key]*(1-TAU)\n",
        "        target_net.load_state_dict(target_net_state_dict)\n",
        "\n",
        "        if done:\n",
        "            break\n",
        "\n",
        "    # Convert to action from tensor to integer\n",
        "    action = action.cpu().numpy()[0][0]\n",
        "\n",
        "    return total_reward, action"
      ],
      "metadata": {
        "id": "D2R3OiOUJmgQ"
      },
      "execution_count": null,
      "outputs": []
    },
    {
      "cell_type": "code",
      "source": [
        "# Train the agent for a specified number of episodes\n",
        "def train_agent(env, policy_net, target_net, memory, num_episodes, device):\n",
        "    rewards = []\n",
        "    for i_episode in range(num_episodes):\n",
        "        total_reward, action = run_episode(env, policy_net, target_net, memory, device)\n",
        "        rewards.append(total_reward)\n",
        "        if (i_episode + 1) % 100 == 0:\n",
        "            avg_reward = np.mean(rewards[-100:])\n",
        "            print(f\"Episode {i_episode+1}/{num_episodes}, average reward: {avg_reward:.2f}\")\n",
        "    return rewards"
      ],
      "metadata": {
        "id": "9oR3fJUSUA8i"
      },
      "execution_count": null,
      "outputs": []
    },
    {
      "cell_type": "code",
      "source": [
        "rewards = train_agent(env, policy_net, target_net, memory, num_episodes, device)"
      ],
      "metadata": {
        "id": "I635qY2ZKBtA",
        "colab": {
          "base_uri": "https://localhost:8080/"
        },
        "outputId": "d5c8404a-bf2c-4e8f-fac6-5179ebee5201"
      },
      "execution_count": null,
      "outputs": [
        {
          "output_type": "stream",
          "name": "stdout",
          "text": [
            "Episode 100/600, average reward: 14.38\n",
            "Episode 200/600, average reward: 88.37\n",
            "Episode 300/600, average reward: 170.12\n",
            "Episode 400/600, average reward: 414.02\n",
            "Episode 500/600, average reward: 437.05\n",
            "Episode 600/600, average reward: 459.44\n"
          ]
        }
      ]
    },
    {
      "cell_type": "code",
      "source": [
        "# To save/update the pre-trained model\n",
        "# Open the left pane in Colab. Select the 'Files' tab.\n",
        "# Click ‘Refresh’. Right-click the file and choose 'Download'.\n",
        "torch.save(target_net.state_dict(), 'model_weights.pth')"
      ],
      "metadata": {
        "id": "20T5uXl-F1DO"
      },
      "execution_count": null,
      "outputs": []
    },
    {
      "cell_type": "markdown",
      "source": [
        "### Analysis of training result\n",
        "\n",
        "The cumulative reward increases as the number of training episodes increases. Beyond 300 episodes, the cumulative rewards fluctuates between 350~500, showing that my model is effective"
      ],
      "metadata": {
        "id": "EWX1VntgRbeg"
      }
    },
    {
      "cell_type": "code",
      "source": [
        "plt.plot(rewards)\n",
        "plt.title('Cumulative reward for each training episode')\n",
        "plt.ylabel('Cumulative reward')\n",
        "plt.xlabel('episode')\n",
        "plt.show()"
      ],
      "metadata": {
        "colab": {
          "base_uri": "https://localhost:8080/",
          "height": 472
        },
        "id": "3IS6hzxNRgFi",
        "outputId": "80ff8b81-a9e0-4e0a-e810-07dffb8ef2d2"
      },
      "execution_count": null,
      "outputs": [
        {
          "output_type": "display_data",
          "data": {
            "text/plain": [
              "<Figure size 640x480 with 1 Axes>"
            ],
            "image/png": "[encoded data removed]"
          },
          "metadata": {}
        }
      ]
    },
    {
      "cell_type": "markdown",
      "source": [
        "### Demonstrating the correctness of the implementation\n",
        "For Task 1, we can show the observation and chosen action below:"
      ],
      "metadata": {
        "id": "RAi7KKwNiegR"
      }
    },
    {
      "cell_type": "code",
      "source": [
        "# To Load pre-trained model\n",
        "# from google.colab import files\n",
        "# uploads = files.upload()"
      ],
      "metadata": {
        "id": "aV2OXyct1XIx"
      },
      "execution_count": null,
      "outputs": []
    },
    {
      "cell_type": "code",
      "source": [
        "env = gym.make(\"CartPole-v1\")\n",
        "state = env.reset()\n",
        "n_observations = len(state)\n",
        "n_actions = env.action_space.n\n",
        "model = DQN(n_observations, n_actions).to(device)\n",
        "model.load_state_dict(torch.load('model_weights.pth'))\n",
        "model.eval()"
      ],
      "metadata": {
        "colab": {
          "base_uri": "https://localhost:8080/"
        },
        "id": "oNpNt-yX1uat",
        "outputId": "fc1e22f0-daf7-4764-d60c-404c81b20674"
      },
      "execution_count": null,
      "outputs": [
        {
          "output_type": "execute_result",
          "data": {
            "text/plain": [
              "DQN(\n",
              "  (layer1): Linear(in_features=4, out_features=128, bias=True)\n",
              "  (layer2): Linear(in_features=128, out_features=128, bias=True)\n",
              "  (layer3): Linear(in_features=128, out_features=2, bias=True)\n",
              ")"
            ]
          },
          "metadata": {},
          "execution_count": 98
        }
      ]
    },
    {
      "cell_type": "code",
      "source": [
        "def get_action(state, model):\n",
        "    with torch.no_grad():\n",
        "      action_tensor = model(state).max(1).indices.view(1, 1)\n",
        "      action = action_tensor.cpu().numpy()[0][0]\n",
        "      return action"
      ],
      "metadata": {
        "id": "DH1oQx3c0MuP"
      },
      "execution_count": null,
      "outputs": []
    },
    {
      "cell_type": "code",
      "source": [
        "# Demonstrating the correctness of the implementation\n",
        "observation = env.reset()\n",
        "observation_tensor = torch.tensor(observation, dtype=torch.float32, device=device).unsqueeze(0)\n",
        "action = get_action(observation_tensor, model)\n",
        "print(\"Observation: \", observation)\n",
        "print(\"Chosen action: \", action)"
      ],
      "metadata": {
        "colab": {
          "base_uri": "https://localhost:8080/"
        },
        "id": "gGMdB6Jb2WSq",
        "outputId": "9df71192-7ee2-4e89-ac5c-74fa60ba267a"
      },
      "execution_count": null,
      "outputs": [
        {
          "output_type": "stream",
          "name": "stdout",
          "text": [
            "Observation:  [ 0.04674615 -0.03051531  0.00709059 -0.02856955]\n",
            "Chosen action:  0\n"
          ]
        }
      ]
    },
    {
      "cell_type": "markdown",
      "source": [
        "# Task 2: Demonstrate the effectiveness of the RL agent"
      ],
      "metadata": {
        "id": "-XtIQ0Rti1gm"
      }
    },
    {
      "cell_type": "markdown",
      "source": [
        "For this task, use the agent developed in Task 1 to play the game for 100 episodes (refer to tutorial for how to play a round), record the cumulative reward for each round, and plot the reward for each round. A sample plotting code is given below. Note that you must include code to play for 100 episodes and use the code to obtain round_results for plotting. DO NOT record the round results in advance and paste the results to the notebook."
      ],
      "metadata": {
        "id": "djBEShf0kGI4"
      }
    },
    {
      "cell_type": "code",
      "source": [
        "# Set parameters\n",
        "test_num_episodes = 100"
      ],
      "metadata": {
        "id": "8bfZ3EmQ0KmH"
      },
      "execution_count": null,
      "outputs": []
    },
    {
      "cell_type": "code",
      "source": [
        "# use the agent developed in Task 1 to play the game for 100 episodes, record the cumulative reward for each round\n",
        "# plot the reward for each round.\n",
        "\n",
        "# For task 2. Run a single episode and return the total reward WITHOUT updating the network\n",
        "def test_run_episode(env, model, device):\n",
        "    state = env.reset()\n",
        "    state = torch.tensor(state, dtype=torch.float32, device=device).unsqueeze(0)\n",
        "    total_reward = 0\n",
        "    done = False\n",
        "    while not done:\n",
        "        action = get_action(state, model)\n",
        "        observation, reward, terminated, truncated = env.step(action)\n",
        "        reward = torch.tensor([reward], device=device)\n",
        "        total_reward += reward.item()\n",
        "        done = terminated or truncated\n",
        "\n",
        "        if terminated:\n",
        "            next_state = None\n",
        "        else:\n",
        "            next_state = torch.tensor(observation, dtype=torch.float32, device=device).unsqueeze(0)\n",
        "\n",
        "        # Move to the next state\n",
        "        state = next_state\n",
        "\n",
        "        if done:\n",
        "            break\n",
        "\n",
        "    return total_reward, action\n",
        "\n",
        "# Test the agent for a specified number of episodes\n",
        "def test_agent(env, model, test_num_episodes, device):\n",
        "    rewards = []\n",
        "    for i_episode in range(test_num_episodes):\n",
        "        total_reward, action = test_run_episode(env, model, device)\n",
        "        rewards.append(total_reward)\n",
        "        if (i_episode + 1) % 10 == 0:\n",
        "            avg_reward = np.mean(rewards[-100:])\n",
        "            print(f\"Episode {i_episode+1}/{test_num_episodes}, average reward: {avg_reward:.2f}\")\n",
        "    return rewards"
      ],
      "metadata": {
        "id": "yT0GXPwUNvzC"
      },
      "execution_count": null,
      "outputs": []
    },
    {
      "cell_type": "code",
      "source": [
        "episode_results = test_agent(env, model, test_num_episodes, device)"
      ],
      "metadata": {
        "id": "8tuEAax8PJRk",
        "colab": {
          "base_uri": "https://localhost:8080/"
        },
        "outputId": "8f12cea0-a355-4736-eb4a-6582948f2f37"
      },
      "execution_count": null,
      "outputs": [
        {
          "output_type": "stream",
          "name": "stdout",
          "text": [
            "Episode 10/100, average reward: 500.00\n",
            "Episode 20/100, average reward: 500.00\n",
            "Episode 30/100, average reward: 500.00\n",
            "Episode 40/100, average reward: 500.00\n",
            "Episode 50/100, average reward: 500.00\n",
            "Episode 60/100, average reward: 500.00\n",
            "Episode 70/100, average reward: 500.00\n",
            "Episode 80/100, average reward: 500.00\n",
            "Episode 90/100, average reward: 500.00\n",
            "Episode 100/100, average reward: 500.00\n"
          ]
        }
      ]
    },
    {
      "cell_type": "code",
      "source": [
        "# DQN plot over 100 episodes\n",
        "plt.plot(episode_results)\n",
        "plt.title('Cumulative reward for each episode')\n",
        "plt.ylabel('Cumulative reward')\n",
        "plt.xlabel('episode')\n",
        "plt.show()"
      ],
      "metadata": {
        "id": "kI1Prybd7JpV",
        "colab": {
          "base_uri": "https://localhost:8080/",
          "height": 472
        },
        "outputId": "b4531599-05a3-4c28-cfd3-1e1a06ce4f1a"
      },
      "execution_count": null,
      "outputs": [
        {
          "output_type": "display_data",
          "data": {
            "text/plain": [
              "<Figure size 640x480 with 1 Axes>"
            ],
            "image/png": "[encoded data removed]"
          },
          "metadata": {}
        }
      ]
    },
    {
      "cell_type": "markdown",
      "source": [
        "Print the average reward over the 100 episodes."
      ],
      "metadata": {
        "id": "XndSYH7wlvn7"
      }
    },
    {
      "cell_type": "code",
      "source": [
        "print(\"Average cumulative reward:\" + str(np.mean(episode_results)))\n",
        "print(\"Is my agent good enough? \" + str(np.mean(episode_results) > 195))"
      ],
      "metadata": {
        "id": "pOiOp9OYlo5Y",
        "colab": {
          "base_uri": "https://localhost:8080/"
        },
        "outputId": "efa86472-7197-44be-d4c4-e72f929f102e"
      },
      "execution_count": null,
      "outputs": [
        {
          "output_type": "stream",
          "name": "stdout",
          "text": [
            "Average cumulative reward:500.0\n",
            "Is my agent good enough? True\n"
          ]
        }
      ]
    },
    {
      "cell_type": "markdown",
      "source": [
        "# Task 3: Render one episode played by the agent"
      ],
      "metadata": {
        "id": "Yg0DCT38lFA6"
      }
    },
    {
      "cell_type": "markdown",
      "source": [
        "Plug your agent to the code below to obtain rendered result."
      ],
      "metadata": {
        "id": "vx1awMr9lc_w"
      }
    },
    {
      "cell_type": "code",
      "source": [
        "# Using DQN\n",
        "env = RecordVideo(gym.make(\"CartPole-v1\"), \"./video\")\n",
        "state = env.reset()\n",
        "state = torch.tensor(state, dtype=torch.float32, device=device).unsqueeze(0)\n",
        "done = False\n",
        "while True:\n",
        "    env.render()\n",
        "    action = get_action(state, model)\n",
        "    observation, reward, terminated, truncated = env.step(action)\n",
        "    done = terminated or truncated\n",
        "\n",
        "    if terminated:\n",
        "        next_state = None\n",
        "    else:\n",
        "        next_state = torch.tensor(observation, dtype=torch.float32, device=device).unsqueeze(0)\n",
        "\n",
        "    # Move to the next state\n",
        "    state = next_state\n",
        "\n",
        "    if done:\n",
        "        break\n",
        "\n",
        "env.close()\n",
        "show_video()"
      ],
      "metadata": {
        "colab": {
          "base_uri": "https://localhost:8080/",
          "height": 456
        },
        "id": "UTS25e1HKwl9",
        "outputId": "4ec2ac76-6d2c-4200-e532-07a50b2e0c7a"
      },
      "execution_count": null,
      "outputs": [
        {
          "output_type": "stream",
          "name": "stderr",
          "text": [
            "/usr/local/lib/python3.10/dist-packages/gym/utils/passive_env_checker.py:241: DeprecationWarning: `np.bool8` is a deprecated alias for `np.bool_`.  (Deprecated NumPy 1.24)\n",
            "  if not isinstance(terminated, (bool, np.bool8)):\n"
          ]
        },
        {
          "output_type": "display_data",
          "data": {
            "text/plain": [
              "<IPython.core.display.HTML object>"
            ],
            "text/html": [
              "<video alt=\"test\" autoplay\n",
              "                loop controls style=\"height: 400px;\">\n",
              "                <source src=\"data:video/mp4;base64,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\" type=\"video/mp4\" />\n",
              "             </video>"
            ]
          },
          "metadata": {}
        }
      ]
    }
  ]
}